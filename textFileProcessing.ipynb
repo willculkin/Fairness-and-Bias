{
 "cells": [
  {
   "cell_type": "code",
   "execution_count": 129,
   "metadata": {},
   "outputs": [],
   "source": [
    "def compareAbsoluteValues(dict1, dict2, key):\n",
    "    return abs( (dict1.get(key) if dict1.get(key) else 0) - (dict2.get(key) if dict2.get(key) else 0))\n",
    "def compareValues(dict1, dict2, key):\n",
    "    return  (dict1.get(key) if dict1.get(key) else 0) - (dict2.get(key) if dict2.get(key) else 0)"
   ]
  },
  {
   "cell_type": "code",
   "execution_count": 116,
   "metadata": {},
   "outputs": [],
   "source": [
    "orginial = open(\"theBox.txt\").read().split()\n",
    "new = open(\"theBox2.txt\").read().split()"
   ]
  },
  {
   "cell_type": "code",
   "execution_count": 117,
   "metadata": {},
   "outputs": [
    {
     "name": "stdout",
     "output_type": "stream",
     "text": [
      "th-e\n",
      "gaston\n"
     ]
    }
   ],
   "source": [
    "print(orginial[2])\n",
    "print(new[1])"
   ]
  },
  {
   "cell_type": "code",
   "execution_count": 118,
   "metadata": {},
   "outputs": [
    {
     "name": "stdout",
     "output_type": "stream",
     "text": [
      "!\"#$%&'()*+,-./:;<=>?@[\\]^_`{|}~\n"
     ]
    }
   ],
   "source": [
    "import string\n",
    "print(string.punctuation)"
   ]
  },
  {
   "cell_type": "code",
   "execution_count": 119,
   "metadata": {},
   "outputs": [],
   "source": [
    "import string\n",
    "table = str.maketrans('', '', string.punctuation)\n",
    "strippedOrginial = [w.translate(table) for w in orginial]\n",
    "strippedOrginial = [word.lower() for word in strippedOrginial]\n",
    "wordfreq = []\n",
    "for w in strippedOrginial:\n",
    "    wordfreq.append(strippedOrginial.count(w))\n",
    "\n",
    "\n",
    "#print(\"List\\n\" + str(stripped) + \"\\n\")\n",
    "#print(\"Frequencies\\n\" + str(wordfreq) + \"\\n\")\n",
    "#print(\"Pairs\\n\" + str(list(zip(stripped, wordfreq))))\n",
    "#pairs = list(zip(strippedOrginial, wordfreq))\n",
    "pairsOrginial = dict(zip(strippedOrginial, wordfreq))"
   ]
  },
  {
   "cell_type": "code",
   "execution_count": 120,
   "metadata": {},
   "outputs": [],
   "source": [
    "tableNew = str.maketrans('', '', string.punctuation)\n",
    "strippedTranscript = [w.translate(tableNew) for w in new]\n",
    "strippedTranscript = [word.lower() for word in strippedTranscript]\n",
    "wordfreqTranscript = []\n",
    "for w in strippedTranscript:\n",
    "    wordfreqTranscript.append(strippedTranscript.count(w))\n",
    "\n",
    "\n",
    "#print(\"List\\n\" + str(stripped) + \"\\n\")\n",
    "#print(\"Frequencies\\n\" + str(wordfreq) + \"\\n\")\n",
    "#print(\"Pairs\\n\" + str(list(zip(stripped, wordfreq))))\n",
    "#pairs = list(zip(strippedOrginial, wordfreq))\n",
    "pairsTranscript = dict(zip(strippedTranscript, wordfreqTranscript))"
   ]
  },
  {
   "cell_type": "code",
   "execution_count": 121,
   "metadata": {},
   "outputs": [
    {
     "data": {
      "text/plain": [
       "48"
      ]
     },
     "execution_count": 121,
     "metadata": {},
     "output_type": "execute_result"
    }
   ],
   "source": [
    "pairsOrginial['the']"
   ]
  },
  {
   "cell_type": "code",
   "execution_count": 122,
   "metadata": {},
   "outputs": [
    {
     "name": "stdout",
     "output_type": "stream",
     "text": [
      "553\n",
      "553\n"
     ]
    }
   ],
   "source": [
    "countOrginal = 0\n",
    "countTranscript = 0\n",
    "for key in pairsOrginial:\n",
    "    countOrginal = countOrginal + pairsOrginial[key]\n",
    "print(countOrginal)\n",
    "\n",
    "for key in pairsTranscript:\n",
    "    countTranscript = countTranscript + pairsTranscript[key]\n",
    "print(countTranscript)"
   ]
  },
  {
   "cell_type": "code",
   "execution_count": 123,
   "metadata": {},
   "outputs": [
    {
     "name": "stdout",
     "output_type": "stream",
     "text": [
      "48\n"
     ]
    }
   ],
   "source": [
    "print(pairsTranscript['the'])"
   ]
  },
  {
   "cell_type": "code",
   "execution_count": 130,
   "metadata": {},
   "outputs": [
    {
     "name": "stdout",
     "output_type": "stream",
     "text": [
      "{'out': 1}\n"
     ]
    }
   ],
   "source": [
    "countDiffFromOrginial = 0\n",
    "wordsNotConsistentWithOrginial = {}\n",
    "for key in pairsOrginial:\n",
    "    countDiffFromOrginial = countDiffFromOrginial + compareAbsoluteValues(pairsOrginial,pairsTranscript,key)\n",
    "    if pairsOrginial.get(key) != pairsTranscript.get(key):\n",
    "        wordsNotConsistentWithOrginial[key] = compareValues(pairsOrginial,pairsTranscript,key)\n",
    "print(wordsNotConsistentWithOrginial)"
   ]
  },
  {
   "cell_type": "code",
   "execution_count": 131,
   "metadata": {},
   "outputs": [
    {
     "name": "stdout",
     "output_type": "stream",
     "text": [
      "None\n",
      "1\n",
      "1\n",
      "10\n",
      "9\n",
      "1\n",
      "{'gaston': 1, 'out': -1}\n"
     ]
    }
   ],
   "source": [
    "countDiffFromTranscript = 0\n",
    "wordsNotConsistentWithTranscript = {}\n",
    "for key in pairsTranscript:\n",
    "    countDiffFromTranscript = countDiffFromTranscript + compareAbsoluteValues(pairsOrginial,pairsTranscript,key)\n",
    "    if pairsOrginial.get(key) != pairsTranscript.get(key):\n",
    "        print(pairsOrginial.get(key))\n",
    "        print(pairsTranscript.get(key))\n",
    "        print(abs( (pairsOrginial.get(key) if pairsOrginial.get(key) else 0) - (pairsTranscript.get(key) if pairsTranscript.get(key) else 0)))\n",
    "        wordsNotConsistentWithTranscript[key] = compareValues(pairsTranscript,pairsOrginial,key)\n",
    "print(wordsNotConsistentWithTranscript)"
   ]
  },
  {
   "cell_type": "code",
   "execution_count": null,
   "metadata": {},
   "outputs": [],
   "source": []
  },
  {
   "cell_type": "code",
   "execution_count": null,
   "metadata": {},
   "outputs": [],
   "source": []
  },
  {
   "cell_type": "code",
   "execution_count": null,
   "metadata": {},
   "outputs": [],
   "source": []
  },
  {
   "cell_type": "code",
   "execution_count": null,
   "metadata": {},
   "outputs": [],
   "source": []
  }
 ],
 "metadata": {
  "kernelspec": {
   "display_name": "Python 3",
   "language": "python",
   "name": "python3"
  },
  "language_info": {
   "codemirror_mode": {
    "name": "ipython",
    "version": 3
   },
   "file_extension": ".py",
   "mimetype": "text/x-python",
   "name": "python",
   "nbconvert_exporter": "python",
   "pygments_lexer": "ipython3",
   "version": "3.8.5"
  }
 },
 "nbformat": 4,
 "nbformat_minor": 4
}
