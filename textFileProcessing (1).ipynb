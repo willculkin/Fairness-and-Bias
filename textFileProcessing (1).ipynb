{
 "cells": [
  {
   "cell_type": "code",
   "execution_count": 129,
   "metadata": {},
   "outputs": [],
   "source": [
    "def compareAbsoluteValues(dict1, dict2, key):\n",
    "    return abs( (dict1.get(key) if dict1.get(key) else 0) - (dict2.get(key) if dict2.get(key) else 0))\n",
    "def compareValues(dict1, dict2, key):\n",
    "    return  (dict1.get(key) if dict1.get(key) else 0) - (dict2.get(key) if dict2.get(key) else 0)"
   ]
  },
  {
   "cell_type": "code",
   "execution_count": 116,
   "metadata": {},
   "outputs": [],
   "source": [
    "orginial = open(\"theBox.txt\").read().split()\n",
    "new = open(\"theBox2.txt\").read().split()"
   ]
  },
  {
   "cell_type": "code",
   "execution_count": 117,
   "metadata": {},
   "outputs": [
    {
     "name": "stdout",
     "output_type": "stream",
     "text": [
      "th-e\n",
      "gaston\n"
     ]
    }
   ],
   "source": [
    "print(orginial[2])\n",
    "print(new[1])"
   ]
  },
  {
   "cell_type": "code",
   "execution_count": 118,
   "metadata": {},
   "outputs": [
    {
     "name": "stdout",
     "output_type": "stream",
     "text": [
      "!\"#$%&'()*+,-./:;<=>?@[\\]^_`{|}~\n"
     ]
    }
   ],
   "source": [
    "import string\n",
    "print(string.punctuation)"
   ]
  },
  {
   "cell_type": "code",
   "execution_count": 119,
   "metadata": {},
   "outputs": [],
   "source": [
    "import string\n",
    "table = str.maketrans('', '', string.punctuation)\n",
    "strippedOrginial = [w.translate(table) for w in orginial]\n",
    "strippedOrginial = [word.lower() for word in strippedOrginial]\n",
    "wordfreq = []\n",
    "for w in strippedOrginial:\n",
    "    wordfreq.append(strippedOrginial.count(w))\n",
    "\n",
    "\n",
    "#print(\"List\\n\" + str(stripped) + \"\\n\")\n",
    "#print(\"Frequencies\\n\" + str(wordfreq) + \"\\n\")\n",
    "#print(\"Pairs\\n\" + str(list(zip(stripped, wordfreq))))\n",
    "#pairs = list(zip(strippedOrginial, wordfreq))\n",
    "pairsOrginial = dict(zip(strippedOrginial, wordfreq))"
   ]
  },
  {
   "cell_type": "code",
   "execution_count": 120,
   "metadata": {},
   "outputs": [],
   "source": [
    "tableNew = str.maketrans('', '', string.punctuation)\n",
    "strippedTranscript = [w.translate(tableNew) for w in new]\n",
    "strippedTranscript = [word.lower() for word in strippedTranscript]\n",
    "wordfreqTranscript = []\n",
    "for w in strippedTranscript:\n",
    "    wordfreqTranscript.append(strippedTranscript.count(w))\n",
    "\n",
    "\n",
    "#print(\"List\\n\" + str(stripped) + \"\\n\")\n",
    "#print(\"Frequencies\\n\" + str(wordfreq) + \"\\n\")\n",
    "#print(\"Pairs\\n\" + str(list(zip(stripped, wordfreq))))\n",
    "#pairs = list(zip(strippedOrginial, wordfreq))\n",
    "pairsTranscript = dict(zip(strippedTranscript, wordfreqTranscript))"
   ]
  },
  {
   "cell_type": "code",
   "execution_count": 121,
   "metadata": {},
   "outputs": [
    {
     "data": {
      "text/plain": [
       "48"
      ]
     },
     "execution_count": 121,
     "metadata": {},
     "output_type": "execute_result"
    }
   ],
   "source": [
    "pairsOrginial['the']"
   ]
  },
  {
   "cell_type": "code",
   "execution_count": 122,
   "metadata": {},
   "outputs": [
    {
     "name": "stdout",
     "output_type": "stream",
     "text": [
      "553\n",
      "553\n"
     ]
    }
   ],
   "source": [
    "countOrginal = 0\n",
    "countTranscript = 0\n",
    "for key in pairsOrginial:\n",
    "    countOrginal = countOrginal + pairsOrginial[key]\n",
    "print(countOrginal)\n",
    "\n",
    "for key in pairsTranscript:\n",
    "    countTranscript = countTranscript + pairsTranscript[key]\n",
    "print(countTranscript)"
   ]
  },
  {
   "cell_type": "code",
   "execution_count": 123,
   "metadata": {},
   "outputs": [
    {
     "name": "stdout",
     "output_type": "stream",
     "text": [
      "48\n"
     ]
    }
   ],
   "source": [
    "print(pairsTranscript['the'])"
   ]
  },
  {
   "cell_type": "code",
   "execution_count": 130,
   "metadata": {},
   "outputs": [
    {
     "name": "stdout",
     "output_type": "stream",
     "text": [
      "{'out': 1}\n"
     ]
    }
   ],
   "source": [
    "countDiffFromOrginial = 0\n",
    "wordsNotConsistentWithOrginial = {}\n",
    "for key in pairsOrginial:\n",
    "    countDiffFromOrginial = countDiffFromOrginial + compareAbsoluteValues(pairsOrginial,pairsTranscript,key)\n",
    "    if pairsOrginial.get(key) != pairsTranscript.get(key):\n",
    "        wordsNotConsistentWithOrginial[key] = compareValues(pairsOrginial,pairsTranscript,key)\n",
    "print(wordsNotConsistentWithOrginial)"
   ]
  },
  {
   "cell_type": "code",
   "execution_count": 131,
   "metadata": {},
   "outputs": [
    {
     "name": "stdout",
     "output_type": "stream",
     "text": [
      "None\n",
      "1\n",
      "1\n",
      "10\n",
      "9\n",
      "1\n",
      "{'gaston': 1, 'out': -1}\n"
     ]
    }
   ],
   "source": [
    "countDiffFromTranscript = 0\n",
    "wordsNotConsistentWithTranscript = {}\n",
    "for key in pairsTranscript:\n",
    "    countDiffFromTranscript = countDiffFromTranscript + compareAbsoluteValues(pairsOrginial,pairsTranscript,key)\n",
    "    if pairsOrginial.get(key) != pairsTranscript.get(key):\n",
    "        wordsNotConsistentWithTranscript[key] = compareValues(pairsTranscript,pairsOrginial,key)\n",
    "print(wordsNotConsistentWithTranscript)"
   ]
  },
  {
   "cell_type": "code",
   "execution_count": 143,
   "metadata": {},
   "outputs": [],
   "source": [
    "def wer(r, h):\n",
    "    \"\"\"\n",
    "    Calculation of WER with Levenshtein distance.\n",
    "\n",
    "    Works only for iterables up to 254 elements (uint8).\n",
    "    O(nm) time ans space complexity.\n",
    "\n",
    "    Parameters\n",
    "    ----------\n",
    "    r : list\n",
    "    h : list\n",
    "\n",
    "    Returns\n",
    "    -------\n",
    "    int\n",
    "\n",
    "    Examples\n",
    "    --------\n",
    "    >>> wer(\"who is there\".split(), \"is there\".split())\n",
    "    1\n",
    "    >>> wer(\"who is there\".split(), \"\".split())\n",
    "    3\n",
    "    >>> wer(\"\".split(), \"who is there\".split())\n",
    "    3\n",
    "    \"\"\"\n",
    "    # initialisation\n",
    "    import numpy\n",
    "\n",
    "    d = numpy.zeros((len(r) + 1) * (len(h) + 1), dtype=numpy.uint8)\n",
    "    d = d.reshape((len(r) + 1, len(h) + 1))\n",
    "    s = numpy.zeros((len(r) + 1) * (len(h) + 1), dtype=numpy.uint8)\n",
    "    s = d.reshape((len(r) + 1, len(h) + 1))\n",
    "    for i in range(len(r) + 1):\n",
    "        for j in range(len(h) + 1):\n",
    "            if i == 0:\n",
    "                d[0][j] = j\n",
    "            elif j == 0:\n",
    "                d[i][0] = i\n",
    "\n",
    "    # computation\n",
    "    correct = 0\n",
    "    for i in range(1, len(r) + 1):\n",
    "        for j in range(1, len(h) + 1):\n",
    "            if r[i - 1] == h[j - 1]:\n",
    "                d[i][j] = d[i - 1][j - 1]\n",
    "                correct = correct +1\n",
    "            else:\n",
    "                substitution = d[i - 1][j - 1] + 1\n",
    "                insertion = d[i][j - 1] + 1\n",
    "                deletion = d[i - 1][j] + 1\n",
    "                d[i][j] = min(substitution, insertion, deletion)\n",
    "                s[i][j] = min(substitution, deletion)\n",
    "\n",
    "    return d[len(r)][len(h)]/(s[len(r)][len(h)]+correct)"
   ]
  },
  {
   "cell_type": "code",
   "execution_count": 149,
   "metadata": {},
   "outputs": [
    {
     "name": "stdout",
     "output_type": "stream",
     "text": [
      "0.6666666666666666\n"
     ]
    }
   ],
   "source": [
    "print(wer(\"hey\".split(), \"hey a\".split()))"
   ]
  },
  {
   "cell_type": "code",
   "execution_count": 151,
   "metadata": {},
   "outputs": [],
   "source": [
    "import sys\n",
    "import numpy\n",
    "\n",
    "def editDistance(r, h):\n",
    "    '''\n",
    "    This function is to calculate the edit distance of reference sentence and the hypothesis sentence.\n",
    "    Main algorithm used is dynamic programming.\n",
    "    Attributes: \n",
    "        r -> the list of words produced by splitting reference sentence.\n",
    "        h -> the list of words produced by splitting hypothesis sentence.\n",
    "    '''\n",
    "    d = numpy.zeros((len(r)+1)*(len(h)+1), dtype=numpy.uint8).reshape((len(r)+1, len(h)+1))\n",
    "    for i in range(len(r)+1):\n",
    "        d[i][0] = i\n",
    "    for j in range(len(h)+1):\n",
    "        d[0][j] = j\n",
    "    for i in range(1, len(r)+1):\n",
    "        for j in range(1, len(h)+1):\n",
    "            if r[i-1] == h[j-1]:\n",
    "                d[i][j] = d[i-1][j-1]\n",
    "            else:\n",
    "                substitute = d[i-1][j-1] + 1\n",
    "                insert = d[i][j-1] + 1\n",
    "                delete = d[i-1][j] + 1\n",
    "                d[i][j] = min(substitute, insert, delete)\n",
    "    return d\n",
    "\n",
    "def getStepList(r, h, d):\n",
    "    '''\n",
    "    This function is to get the list of steps in the process of dynamic programming.\n",
    "    Attributes: \n",
    "        r -> the list of words produced by splitting reference sentence.\n",
    "        h -> the list of words produced by splitting hypothesis sentence.\n",
    "        d -> the matrix built when calulating the editting distance of h and r.\n",
    "    '''\n",
    "    x = len(r)\n",
    "    y = len(h)\n",
    "    list = []\n",
    "    while True:\n",
    "        if x == 0 and y == 0: \n",
    "            break\n",
    "        elif x >= 1 and y >= 1 and d[x][y] == d[x-1][y-1] and r[x-1] == h[y-1]: \n",
    "            list.append(\"e\")\n",
    "            x = x - 1\n",
    "            y = y - 1\n",
    "        elif y >= 1 and d[x][y] == d[x][y-1]+1:\n",
    "            list.append(\"i\")\n",
    "            x = x\n",
    "            y = y - 1\n",
    "        elif x >= 1 and y >= 1 and d[x][y] == d[x-1][y-1]+1:\n",
    "            list.append(\"s\")\n",
    "            x = x - 1\n",
    "            y = y - 1\n",
    "        else:\n",
    "            list.append(\"d\")\n",
    "            x = x - 1\n",
    "            y = y\n",
    "    return list[::-1]\n",
    "\n",
    "def alignedPrint(list, r, h, result):\n",
    "    '''\n",
    "    This funcition is to print the result of comparing reference and hypothesis sentences in an aligned way.\n",
    "    \n",
    "    Attributes:\n",
    "        list   -> the list of steps.\n",
    "        r      -> the list of words produced by splitting reference sentence.\n",
    "        h      -> the list of words produced by splitting hypothesis sentence.\n",
    "        result -> the rate calculated based on edit distance.\n",
    "    '''\n",
    "    print(\"REF:\", end=\" \")\n",
    "    for i in range(len(list)):\n",
    "        if list[i] == \"i\":\n",
    "            count = 0\n",
    "            for j in range(i):\n",
    "                if list[j] == \"d\":\n",
    "                    count += 1\n",
    "            index = i - count\n",
    "            print(\" \"*(len(h[index])), end=\" \")\n",
    "        elif list[i] == \"s\":\n",
    "            count1 = 0\n",
    "            for j in range(i):\n",
    "                if list[j] == \"i\":\n",
    "                    count1 += 1\n",
    "            index1 = i - count1\n",
    "            count2 = 0\n",
    "            for j in range(i):\n",
    "                if list[j] == \"d\":\n",
    "                    count2 += 1\n",
    "            index2 = i - count2\n",
    "            if len(r[index1]) < len(h[index2]):\n",
    "                print(r[index1] + \" \" * (len(h[index2])-len(r[index1])), end=\" \")\n",
    "            else:\n",
    "                print(r[index1], end=\" \"),\n",
    "        else:\n",
    "            count = 0\n",
    "            for j in range(i):\n",
    "                if list[j] == \"i\":\n",
    "                    count += 1\n",
    "            index = i - count\n",
    "            print(r[index], end=\" \"),\n",
    "    print(\"\\nHYP:\", end=\" \")\n",
    "    for i in range(len(list)):\n",
    "        if list[i] == \"d\":\n",
    "            count = 0\n",
    "            for j in range(i):\n",
    "                if list[j] == \"i\":\n",
    "                    count += 1\n",
    "            index = i - count\n",
    "            print(\" \" * (len(r[index])), end=\" \")\n",
    "        elif list[i] == \"s\":\n",
    "            count1 = 0\n",
    "            for j in range(i):\n",
    "                if list[j] == \"i\":\n",
    "                    count1 += 1\n",
    "            index1 = i - count1\n",
    "            count2 = 0\n",
    "            for j in range(i):\n",
    "                if list[j] == \"d\":\n",
    "                    count2 += 1\n",
    "            index2 = i - count2\n",
    "            if len(r[index1]) > len(h[index2]):\n",
    "                print(h[index2] + \" \" * (len(r[index1])-len(h[index2])), end=\" \")\n",
    "            else:\n",
    "                print(h[index2], end=\" \")\n",
    "        else:\n",
    "            count = 0\n",
    "            for j in range(i):\n",
    "                if list[j] == \"d\":\n",
    "                    count += 1\n",
    "            index = i - count\n",
    "            print(h[index], end=\" \")\n",
    "    print(\"\\nEVA:\", end=\" \")\n",
    "    for i in range(len(list)):\n",
    "        if list[i] == \"d\":\n",
    "            count = 0\n",
    "            for j in range(i):\n",
    "                if list[j] == \"i\":\n",
    "                    count += 1\n",
    "            index = i - count\n",
    "            print(\"D\" + \" \" * (len(r[index])-1), end=\" \")\n",
    "        elif list[i] == \"i\":\n",
    "            count = 0\n",
    "            for j in range(i):\n",
    "                if list[j] == \"d\":\n",
    "                    count += 1\n",
    "            index = i - count\n",
    "            print(\"I\" + \" \" * (len(h[index])-1), end=\" \")\n",
    "        elif list[i] == \"s\":\n",
    "            count1 = 0\n",
    "            for j in range(i):\n",
    "                if list[j] == \"i\":\n",
    "                    count1 += 1\n",
    "            index1 = i - count1\n",
    "            count2 = 0\n",
    "            for j in range(i):\n",
    "                if list[j] == \"d\":\n",
    "                    count2 += 1\n",
    "            index2 = i - count2\n",
    "            if len(r[index1]) > len(h[index2]):\n",
    "                print(\"S\" + \" \" * (len(r[index1])-1), end=\" \")\n",
    "            else:\n",
    "                print(\"S\" + \" \" * (len(h[index2])-1), end=\" \")\n",
    "        else:\n",
    "            count = 0\n",
    "            for j in range(i):\n",
    "                if list[j] == \"i\":\n",
    "                    count += 1\n",
    "            index = i - count\n",
    "            print(\" \" * (len(r[index])), end=\" \")\n",
    "    print(\"\\nWER: \" + result)\n",
    "\n",
    "def wer(r, h):\n",
    "    \"\"\"\n",
    "    This is a function that calculate the word error rate in ASR.\n",
    "    You can use it like this: wer(\"what is it\".split(), \"what is\".split()) \n",
    "    \"\"\"\n",
    "    # build the matrix\n",
    "    d = editDistance(r, h)\n",
    "\n",
    "    # find out the manipulation steps\n",
    "    list = getStepList(r, h, d)\n",
    "\n",
    "    # print the result in aligned way\n",
    "    result = float(d[len(r)][len(h)]) / len(r) * 100\n",
    "    result = str(\"%.2f\" % result) + \"%\"\n",
    "    alignedPrint(list, r, h, result)\n",
    "\n"
   ]
  },
  {
   "cell_type": "code",
   "execution_count": null,
   "metadata": {},
   "outputs": [],
   "source": [
    "if __name__ == '__main__':\n",
    "    filename1 = sys.argv[1]\n",
    "    filename2 = sys.argv[2]\n",
    "    with open(filename1, 'r', encoding=\"utf8\") as ref:\n",
    "        r = ref.read().split()\n",
    "    with open(filename2, 'r', encoding=\"utf8\") as hyp:\n",
    "        h = hyp.read().split()\n",
    "    wer(r, h)  "
   ]
  },
  {
   "cell_type": "code",
   "execution_count": 155,
   "metadata": {},
   "outputs": [
    {
     "name": "stdout",
     "output_type": "stream",
     "text": [
      "REF: h e y   y o u \n",
      "HYP: h e y   y o u \n",
      "EVA:               \n",
      "WER: 0.00%\n",
      "None\n"
     ]
    }
   ],
   "source": [
    "print(wer('hey you', 'hey you'))"
   ]
  },
  {
   "cell_type": "code",
   "execution_count": null,
   "metadata": {},
   "outputs": [],
   "source": []
  }
 ],
 "metadata": {
  "kernelspec": {
   "display_name": "Python 3",
   "language": "python",
   "name": "python3"
  },
  "language_info": {
   "codemirror_mode": {
    "name": "ipython",
    "version": 3
   },
   "file_extension": ".py",
   "mimetype": "text/x-python",
   "name": "python",
   "nbconvert_exporter": "python",
   "pygments_lexer": "ipython3",
   "version": "3.8.5"
  }
 },
 "nbformat": 4,
 "nbformat_minor": 4
}
